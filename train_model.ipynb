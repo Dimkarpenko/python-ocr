{
  "cells": [
    {
      "cell_type": "code",
      "execution_count": null,
      "metadata": {
        "id": "FsXNQ5OfB4rZ"
      },
      "outputs": [],
      "source": [
        "!wget -q http://www.ee.surrey.ac.uk/CVSSP/demos/chars74k/EnglishFnt.tgz\n",
        "!tar -xzvf EnglishFnt.tgz"
      ]
    },
    {
      "cell_type": "code",
      "execution_count": null,
      "metadata": {
        "id": "oOjsTMPDCEAw"
      },
      "outputs": [],
      "source": [
        "import numpy as np\n",
        "from skimage import io\n",
        "import os\n",
        "from PIL import Image\n",
        "import tensorflow\n",
        "from tensorflow.keras.models import Sequential\n",
        "from tensorflow.keras.layers import Conv2D\n",
        "from tensorflow.keras.layers import MaxPooling2D\n",
        "from tensorflow.keras.layers import Flatten\n",
        "from tensorflow.keras.layers import Dense, Dropout\n",
        "from tensorflow.keras.utils import to_categorical"
      ]
    },
    {
      "cell_type": "code",
      "execution_count": null,
      "metadata": {
        "id": "Ba7Yy7v8C5Wm"
      },
      "outputs": [],
      "source": [
        "def add_margin(pil_img, top, right, bottom, left, color):\n",
        "  width, height = pil_img.size\n",
        "  new_width = width + right + left\n",
        "  new_height = height + top + bottom\n",
        "  result = Image.new(pil_img.mode, (new_width,   new_height), color)\n",
        "  result.paste(pil_img, (left, top))\n",
        "  return result"
      ]
    },
    {
      "cell_type": "code",
      "execution_count": null,
      "metadata": {
        "id": "eBG7zfyjC7LF"
      },
      "outputs": [],
      "source": [
        "dataset=[]\n",
        "labels=[]\n",
        "count=0\n",
        "fnt_path = r\"English/Fnt/\"\n",
        "folders= os.listdir(fnt_path)\n",
        "for i in folders:\n",
        "  for j in os.listdir(fnt_path+str(i)):\n",
        "     im_new=add_margin(Image.open(fnt_path+str(i)+'/'+str(j)), 10, 10,10, 10, (255))\n",
        "     resized_image = im_new.resize((32,32))\n",
        "     dataset.append(np.array([  np.asarray(resized_image)/255.0 ] ))\n",
        "     labels.append(count)\n",
        "  count+=1"
      ]
    },
    {
      "cell_type": "code",
      "execution_count": null,
      "metadata": {
        "colab": {
          "base_uri": "https://localhost:8080/"
        },
        "id": "CtU63F1nEwq9",
        "outputId": "5120c9d7-990f-4874-976c-cacf50ad3e09"
      },
      "outputs": [
        {
          "output_type": "execute_result",
          "data": {
            "text/plain": [
              "(62992, 1, 32, 32)"
            ]
          },
          "metadata": {},
          "execution_count": 5
        }
      ],
      "source": [
        "np.array(dataset).shape"
      ]
    },
    {
      "cell_type": "code",
      "execution_count": null,
      "metadata": {
        "id": "9wM6OeZPDj7_"
      },
      "outputs": [],
      "source": [
        "dataset = np.array(dataset).reshape(62992,32,32,1)\n",
        "labels = np.array(labels).reshape(-1,1)"
      ]
    },
    {
      "cell_type": "code",
      "execution_count": null,
      "metadata": {
        "id": "hDAs-GqGE68d"
      },
      "outputs": [],
      "source": [
        "from sklearn.preprocessing import OneHotEncoder\n",
        "type_encoder = OneHotEncoder()\n",
        "labels=type_encoder.fit_transform(labels).toarray()"
      ]
    },
    {
      "cell_type": "code",
      "execution_count": null,
      "metadata": {
        "id": "f7SdqDTHFXwx"
      },
      "outputs": [],
      "source": [
        "from sklearn.model_selection import train_test_split\n",
        "x_train, x_test, y_train, y_test = train_test_split(dataset,labels, test_size=0.33, random_state=42)"
      ]
    },
    {
      "cell_type": "code",
      "execution_count": null,
      "metadata": {
        "colab": {
          "base_uri": "https://localhost:8080/"
        },
        "id": "MC31m56zFbbo",
        "outputId": "360ad7e6-d13d-4c18-aa56-9aeef64d54bb"
      },
      "outputs": [
        {
          "output_type": "execute_result",
          "data": {
            "text/plain": [
              "(42204, 62)"
            ]
          },
          "metadata": {},
          "execution_count": 9
        }
      ],
      "source": [
        "y_train.shape"
      ]
    },
    {
      "cell_type": "code",
      "execution_count": null,
      "metadata": {
        "colab": {
          "base_uri": "https://localhost:8080/"
        },
        "id": "yQi0dJm9E8Xm",
        "outputId": "fe4146c5-5938-4621-a2bf-33d30e39e2ed"
      },
      "outputs": [
        {
          "output_type": "stream",
          "name": "stdout",
          "text": [
            "Model: \"sequential\"\n",
            "_________________________________________________________________\n",
            " Layer (type)                Output Shape              Param #   \n",
            "=================================================================\n",
            " conv2d (Conv2D)             (None, 30, 30, 32)        320       \n",
            "                                                                 \n",
            " max_pooling2d (MaxPooling2D  (None, 15, 15, 32)       0         \n",
            " )                                                               \n",
            "                                                                 \n",
            " conv2d_1 (Conv2D)           (None, 13, 13, 64)        18496     \n",
            "                                                                 \n",
            " max_pooling2d_1 (MaxPooling  (None, 6, 6, 64)         0         \n",
            " 2D)                                                             \n",
            "                                                                 \n",
            " conv2d_2 (Conv2D)           (None, 4, 4, 128)         73856     \n",
            "                                                                 \n",
            " max_pooling2d_2 (MaxPooling  (None, 2, 2, 128)        0         \n",
            " 2D)                                                             \n",
            "                                                                 \n",
            " flatten (Flatten)           (None, 512)               0         \n",
            "                                                                 \n",
            " dense (Dense)               (None, 256)               131328    \n",
            "                                                                 \n",
            " dropout (Dropout)           (None, 256)               0         \n",
            "                                                                 \n",
            " dense_1 (Dense)             (None, 128)               32896     \n",
            "                                                                 \n",
            " dense_2 (Dense)             (None, 62)                7998      \n",
            "                                                                 \n",
            "=================================================================\n",
            "Total params: 264,894\n",
            "Trainable params: 264,894\n",
            "Non-trainable params: 0\n",
            "_________________________________________________________________\n"
          ]
        }
      ],
      "source": [
        "model = Sequential()\n",
        "# Convolution\n",
        "model.add(Conv2D(32, (3, 3), input_shape = (32,32,1), activation = 'relu'))\n",
        "model.add(MaxPooling2D(pool_size = (2, 2)))\n",
        "# Pooling\n",
        "# Convolution\n",
        "model.add(Conv2D(64, (3, 3),  activation = 'relu'))\n",
        "model.add(MaxPooling2D(pool_size = (2, 2)))\n",
        "\n",
        "model.add(Conv2D(128, (3, 3),  activation = 'relu'))\n",
        "model.add(MaxPooling2D(pool_size = (2, 2)))\n",
        "#model.add(Dropout(0.25))\n",
        "# Flattening\n",
        "model.add(Flatten())\n",
        "# Full connection\n",
        "#model.add(Dense(units = 512, activation = 'relu'))\n",
        "#model.add(Dropout(0.5))\n",
        "model.add(Dense(units = 256, activation = 'relu'))\n",
        "# Add Dropout to prevent overfitting\n",
        "model.add(Dropout(0.5))\n",
        "model.add(Dense(units = 128, activation = 'relu'))\n",
        "model.add(Dense(units = 62, activation = 'softmax'))\n",
        "# Compiling the CNN\n",
        "model.compile(optimizer = 'adam', loss = 'categorical_crossentropy', metrics = ['accuracy'])\n",
        "model.summary()"
      ]
    },
    {
      "cell_type": "code",
      "execution_count": null,
      "metadata": {
        "id": "N45Yq-A9FA6y"
      },
      "outputs": [],
      "source": [
        "history = model.fit(x_train, y_train, batch_size = 4, epochs = 100, validation_data=(x_test, y_test),verbose=1)\n",
        "model.save('Model.h5')"
      ]
    }
  ],
  "metadata": {
    "accelerator": "GPU",
    "colab": {
      "provenance": [],
      "authorship_tag": "ABX9TyOOhvvTXT/brxtmQMcguX/z"
    },
    "gpuClass": "standard",
    "kernelspec": {
      "display_name": "Python 3",
      "name": "python3"
    },
    "language_info": {
      "name": "python"
    }
  },
  "nbformat": 4,
  "nbformat_minor": 0
}